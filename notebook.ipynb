{
 "cells": [
  {
   "cell_type": "markdown",
   "id": "1a882c8d",
   "metadata": {},
   "source": [
    "### Stochastic Gradient Descent vs Batch Gradient Descnet vs Mini Batch Gradient Descent "
   ]
  },
  {
   "cell_type": "markdown",
   "id": "5454abe4",
   "metadata": {},
   "source": [
    "**In Batch Gradient Descnet**\n",
    "1. We go through all training samples and calculate cumulative error \n",
    "2. then we back propagate and adjust weights \n",
    "3. this approach is good for small dataset "
   ]
  },
  {
   "cell_type": "markdown",
   "id": "7d7c65d6",
   "metadata": {},
   "source": [
    "**Stochastic Gradient Descnet**\n",
    "1. use one (randomly picked) sample for forward pass and then adjust weights \n",
    "2. this approach is good when training data is very big and we don't want too much of computation "
   ]
  },
  {
   "cell_type": "markdown",
   "id": "ccd59ece",
   "metadata": {},
   "source": [
    "**Mini Batch Gradient Descent**\n",
    "1. use a bactch of (randomly picked) samples for forward pass and then adjust weights"
   ]
  },
  {
   "cell_type": "code",
   "execution_count": 1,
   "id": "5b680196",
   "metadata": {},
   "outputs": [],
   "source": [
    "import pandas as pd  \n",
    "import numpy as np  \n",
    "import matplotlib.pyplot as plt  \n",
    "%matplotlib inline "
   ]
  },
  {
   "cell_type": "code",
   "execution_count": 3,
   "id": "db530e94",
   "metadata": {},
   "outputs": [
    {
     "data": {
      "text/html": [
       "<div>\n",
       "<style scoped>\n",
       "    .dataframe tbody tr th:only-of-type {\n",
       "        vertical-align: middle;\n",
       "    }\n",
       "\n",
       "    .dataframe tbody tr th {\n",
       "        vertical-align: top;\n",
       "    }\n",
       "\n",
       "    .dataframe thead th {\n",
       "        text-align: right;\n",
       "    }\n",
       "</style>\n",
       "<table border=\"1\" class=\"dataframe\">\n",
       "  <thead>\n",
       "    <tr style=\"text-align: right;\">\n",
       "      <th></th>\n",
       "      <th>area</th>\n",
       "      <th>bedrooms</th>\n",
       "      <th>price</th>\n",
       "    </tr>\n",
       "  </thead>\n",
       "  <tbody>\n",
       "    <tr>\n",
       "      <th>14</th>\n",
       "      <td>2250</td>\n",
       "      <td>3</td>\n",
       "      <td>101.00</td>\n",
       "    </tr>\n",
       "    <tr>\n",
       "      <th>6</th>\n",
       "      <td>2732</td>\n",
       "      <td>4</td>\n",
       "      <td>135.00</td>\n",
       "    </tr>\n",
       "    <tr>\n",
       "      <th>1</th>\n",
       "      <td>2600</td>\n",
       "      <td>4</td>\n",
       "      <td>120.00</td>\n",
       "    </tr>\n",
       "    <tr>\n",
       "      <th>0</th>\n",
       "      <td>1056</td>\n",
       "      <td>2</td>\n",
       "      <td>39.07</td>\n",
       "    </tr>\n",
       "    <tr>\n",
       "      <th>11</th>\n",
       "      <td>2785</td>\n",
       "      <td>4</td>\n",
       "      <td>140.00</td>\n",
       "    </tr>\n",
       "    <tr>\n",
       "      <th>9</th>\n",
       "      <td>3700</td>\n",
       "      <td>5</td>\n",
       "      <td>167.00</td>\n",
       "    </tr>\n",
       "    <tr>\n",
       "      <th>13</th>\n",
       "      <td>1100</td>\n",
       "      <td>2</td>\n",
       "      <td>40.00</td>\n",
       "    </tr>\n",
       "    <tr>\n",
       "      <th>2</th>\n",
       "      <td>1440</td>\n",
       "      <td>3</td>\n",
       "      <td>62.00</td>\n",
       "    </tr>\n",
       "    <tr>\n",
       "      <th>16</th>\n",
       "      <td>1180</td>\n",
       "      <td>3</td>\n",
       "      <td>48.00</td>\n",
       "    </tr>\n",
       "    <tr>\n",
       "      <th>7</th>\n",
       "      <td>3300</td>\n",
       "      <td>4</td>\n",
       "      <td>155.00</td>\n",
       "    </tr>\n",
       "  </tbody>\n",
       "</table>\n",
       "</div>"
      ],
      "text/plain": [
       "    area  bedrooms   price\n",
       "14  2250         3  101.00\n",
       "6   2732         4  135.00\n",
       "1   2600         4  120.00\n",
       "0   1056         2   39.07\n",
       "11  2785         4  140.00\n",
       "9   3700         5  167.00\n",
       "13  1100         2   40.00\n",
       "2   1440         3   62.00\n",
       "16  1180         3   48.00\n",
       "7   3300         4  155.00"
      ]
     },
     "execution_count": 3,
     "metadata": {},
     "output_type": "execute_result"
    }
   ],
   "source": [
    "df = pd.read_csv('homeprices_banglore.csv') \n",
    "df.sample(10) "
   ]
  },
  {
   "cell_type": "code",
   "execution_count": 4,
   "id": "8dc91d88",
   "metadata": {},
   "outputs": [
    {
     "data": {
      "text/plain": [
       "(20, 3)"
      ]
     },
     "execution_count": 4,
     "metadata": {},
     "output_type": "execute_result"
    }
   ],
   "source": [
    "df.shape "
   ]
  },
  {
   "cell_type": "code",
   "execution_count": 5,
   "id": "969b3866",
   "metadata": {},
   "outputs": [],
   "source": [
    "X = df.drop('price', axis=1)\n",
    "y = df.price "
   ]
  },
  {
   "cell_type": "code",
   "execution_count": 7,
   "id": "bb18ea73",
   "metadata": {},
   "outputs": [
    {
     "data": {
      "text/html": [
       "<div>\n",
       "<style scoped>\n",
       "    .dataframe tbody tr th:only-of-type {\n",
       "        vertical-align: middle;\n",
       "    }\n",
       "\n",
       "    .dataframe tbody tr th {\n",
       "        vertical-align: top;\n",
       "    }\n",
       "\n",
       "    .dataframe thead th {\n",
       "        text-align: right;\n",
       "    }\n",
       "</style>\n",
       "<table border=\"1\" class=\"dataframe\">\n",
       "  <thead>\n",
       "    <tr style=\"text-align: right;\">\n",
       "      <th></th>\n",
       "      <th>area</th>\n",
       "      <th>bedrooms</th>\n",
       "    </tr>\n",
       "  </thead>\n",
       "  <tbody>\n",
       "    <tr>\n",
       "      <th>0</th>\n",
       "      <td>1056</td>\n",
       "      <td>2</td>\n",
       "    </tr>\n",
       "    <tr>\n",
       "      <th>1</th>\n",
       "      <td>2600</td>\n",
       "      <td>4</td>\n",
       "    </tr>\n",
       "    <tr>\n",
       "      <th>2</th>\n",
       "      <td>1440</td>\n",
       "      <td>3</td>\n",
       "    </tr>\n",
       "    <tr>\n",
       "      <th>3</th>\n",
       "      <td>1521</td>\n",
       "      <td>3</td>\n",
       "    </tr>\n",
       "    <tr>\n",
       "      <th>4</th>\n",
       "      <td>1200</td>\n",
       "      <td>2</td>\n",
       "    </tr>\n",
       "  </tbody>\n",
       "</table>\n",
       "</div>"
      ],
      "text/plain": [
       "   area  bedrooms\n",
       "0  1056         2\n",
       "1  2600         4\n",
       "2  1440         3\n",
       "3  1521         3\n",
       "4  1200         2"
      ]
     },
     "execution_count": 7,
     "metadata": {},
     "output_type": "execute_result"
    }
   ],
   "source": [
    "X.head() "
   ]
  },
  {
   "cell_type": "code",
   "execution_count": 8,
   "id": "b92a77b9",
   "metadata": {},
   "outputs": [
    {
     "data": {
      "text/plain": [
       "0     39.07\n",
       "1    120.00\n",
       "2     62.00\n",
       "3     75.00\n",
       "4     51.00\n",
       "Name: price, dtype: float64"
      ]
     },
     "execution_count": 8,
     "metadata": {},
     "output_type": "execute_result"
    }
   ],
   "source": [
    "y.head() "
   ]
  },
  {
   "cell_type": "code",
   "execution_count": 10,
   "id": "a3783a6c",
   "metadata": {},
   "outputs": [],
   "source": [
    "from sklearn.preprocessing import MinMaxScaler \n",
    "\n",
    "sx = MinMaxScaler() \n",
    "sy = MinMaxScaler()  \n",
    "\n",
    "scaled_X = sx.fit_transform(X) \n",
    "scaled_y = sy.fit_transform(y.values.reshape(df.shape[0],1)) "
   ]
  },
  {
   "cell_type": "code",
   "execution_count": null,
   "id": "b0ec791a",
   "metadata": {},
   "outputs": [
    {
     "data": {
      "text/plain": [
       "(20,)"
      ]
     },
     "execution_count": 15,
     "metadata": {},
     "output_type": "execute_result"
    }
   ],
   "source": [
    "y.shape "
   ]
  },
  {
   "cell_type": "code",
   "execution_count": 14,
   "id": "eebd89c7",
   "metadata": {},
   "outputs": [
    {
     "data": {
      "text/plain": [
       "(20, 2)"
      ]
     },
     "execution_count": 14,
     "metadata": {},
     "output_type": "execute_result"
    }
   ],
   "source": [
    "scaled_X.shape "
   ]
  },
  {
   "cell_type": "code",
   "execution_count": 13,
   "id": "98409cc2",
   "metadata": {},
   "outputs": [
    {
     "data": {
      "text/plain": [
       "(20, 1)"
      ]
     },
     "execution_count": 13,
     "metadata": {},
     "output_type": "execute_result"
    }
   ],
   "source": [
    "scaled_y.shape"
   ]
  },
  {
   "cell_type": "markdown",
   "id": "f56155b7",
   "metadata": {},
   "source": [
    "#### Batch Gradient Descent"
   ]
  },
  {
   "cell_type": "code",
   "execution_count": 18,
   "id": "97dc5e6e",
   "metadata": {},
   "outputs": [
    {
     "data": {
      "text/plain": [
       "array([1., 1.])"
      ]
     },
     "execution_count": 18,
     "metadata": {},
     "output_type": "execute_result"
    }
   ],
   "source": [
    "w=np.ones(shape=(2))\n",
    "w"
   ]
  },
  {
   "cell_type": "code",
   "execution_count": null,
   "id": "89e86fec",
   "metadata": {},
   "outputs": [
    {
     "data": {
      "text/plain": [
       "(array([[0.08827586, 0.62068966, 0.22068966, 0.24862069, 0.13793103,\n",
       "         0.12758621, 0.6662069 , 0.86206897, 0.17586207, 1.        ,\n",
       "         0.34482759, 0.68448276, 0.06896552, 0.10344828, 0.5       ,\n",
       "         0.12931034, 0.13103448, 0.25517241, 0.67931034, 0.        ],\n",
       "        [0.25      , 0.75      , 0.5       , 0.5       , 0.25      ,\n",
       "         0.25      , 0.75      , 0.75      , 0.5       , 1.        ,\n",
       "         0.5       , 0.75      , 0.25      , 0.25      , 0.5       ,\n",
       "         0.25      , 0.5       , 0.5       , 0.5       , 0.        ]]),\n",
       " (2, 20),\n",
       " (20, 2))"
      ]
     },
     "execution_count": 21,
     "metadata": {},
     "output_type": "execute_result"
    }
   ],
   "source": [
    "# convert raws to columns \n",
    "scaled_X.T, scaled_X.T.shape, scaled_X.shape "
   ]
  },
  {
   "cell_type": "code",
   "execution_count": 27,
   "id": "8282305f",
   "metadata": {},
   "outputs": [
    {
     "data": {
      "text/plain": [
       "array([1., 1.])"
      ]
     },
     "execution_count": 27,
     "metadata": {},
     "output_type": "execute_result"
    }
   ],
   "source": [
    "np.ones(shape=(2))  "
   ]
  },
  {
   "cell_type": "code",
   "execution_count": 31,
   "id": "1041c5f5",
   "metadata": {},
   "outputs": [],
   "source": [
    "def batch_gradient_descent(X, y_true, epocs, learning_rate = 0.01): \n",
    "    number_of_features = X.shape[1] \n",
    "    \n",
    "    y_true = y_true.reshape(y_true.shape[0],)\n",
    "    \n",
    "    w = np.ones(shape=(number_of_features))\n",
    "    b = 0 \n",
    "    total_samples = X.shape[0] \n",
    "    \n",
    "    cost_list = []\n",
    "    epoch_list = [] \n",
    "    \n",
    "    for i in range(epocs): \n",
    "        y_predicted = np.dot(w, X.T) + b   \n",
    "        \n",
    "        w_grad = -(2/total_samples)*(X.T.dot(y_true-y_predicted))\n",
    "        b_grad = -(2/total_samples)*np.sum(y_true-y_predicted) \n",
    "        \n",
    "        w = w - learning_rate * w_grad \n",
    "        b = b - learning_rate * b_grad \n",
    "        \n",
    "        cost = np.mean(np.square(y_true-y_predicted))\n",
    "        \n",
    "        if i%10==0:\n",
    "            cost_list.append(cost) \n",
    "            epoch_list.append(i) \n",
    "    return w,b,cost,cost_list,epoch_list"
   ]
  },
  {
   "cell_type": "code",
   "execution_count": 32,
   "id": "71448cce",
   "metadata": {},
   "outputs": [
    {
     "data": {
      "text/plain": [
       "(array([0.70712464, 0.67456527]), -0.23034857438407427, 0.0068641890429808105)"
      ]
     },
     "execution_count": 32,
     "metadata": {},
     "output_type": "execute_result"
    }
   ],
   "source": [
    "w,b,cost,cost_list,epoch_list = batch_gradient_descent(scaled_X, scaled_y, 500) \n",
    "w, b, cost "
   ]
  },
  {
   "cell_type": "code",
   "execution_count": 33,
   "id": "7c91b9f9",
   "metadata": {},
   "outputs": [
    {
     "data": {
      "text/plain": [
       "[<matplotlib.lines.Line2D at 0x2307951e400>]"
      ]
     },
     "execution_count": 33,
     "metadata": {},
     "output_type": "execute_result"
    },
    {
     "data": {
      "image/png": "[encoded data removed]",
      "text/plain": [
       "<Figure size 640x480 with 1 Axes>"
      ]
     },
     "metadata": {},
     "output_type": "display_data"
    }
   ],
   "source": [
    "# plotting cost against epoch\n",
    "plt.xlabel('epcoh')\n",
    "plt.ylabel('cost')\n",
    "plt.plot(epoch_list, cost_list) "
   ]
  },
  {
   "cell_type": "code",
   "execution_count": 36,
   "id": "83ccd67e",
   "metadata": {},
   "outputs": [
    {
     "name": "stderr",
     "output_type": "stream",
     "text": [
      "c:\\Users\\madhu\\anaconda3\\envs\\tf\\lib\\site-packages\\sklearn\\utils\\validation.py:2739: UserWarning: X does not have valid feature names, but MinMaxScaler was fitted with feature names\n",
      "  warnings.warn(\n"
     ]
    },
    {
     "data": {
      "text/plain": [
       "array([ 0.62068966, 18.5       ])"
      ]
     },
     "execution_count": 36,
     "metadata": {},
     "output_type": "execute_result"
    }
   ],
   "source": [
    "sx.transform([[2600, 75]])[0]"
   ]
  },
  {
   "cell_type": "code",
   "execution_count": 41,
   "id": "f3642d48",
   "metadata": {},
   "outputs": [],
   "source": [
    "def predict(area, bedrooms, w, b): \n",
    "    scaled_X = sx.transform([[area, bedrooms]])[0]\n",
    "    scaled_price = w[0]*scaled_X[0] + w[1]*scaled_X[1] + b\n",
    "    price = sy.inverse_transform([[scaled_price]])[0][0]\n",
    "    print(f'Home price: {price}')  "
   ]
  },
  {
   "cell_type": "code",
   "execution_count": 42,
   "id": "b82d1f78",
   "metadata": {},
   "outputs": [
    {
     "name": "stdout",
     "output_type": "stream",
     "text": [
      "Home price: 128.45484403267596\n"
     ]
    },
    {
     "name": "stderr",
     "output_type": "stream",
     "text": [
      "c:\\Users\\madhu\\anaconda3\\envs\\tf\\lib\\site-packages\\sklearn\\utils\\validation.py:2739: UserWarning: X does not have valid feature names, but MinMaxScaler was fitted with feature names\n",
      "  warnings.warn(\n"
     ]
    }
   ],
   "source": [
    "predict(2600, 4, w, b) "
   ]
  },
  {
   "cell_type": "code",
   "execution_count": 43,
   "id": "fc264fc6",
   "metadata": {},
   "outputs": [
    {
     "name": "stdout",
     "output_type": "stream",
     "text": [
      "Home price: 508.64655812694923\n"
     ]
    },
    {
     "name": "stderr",
     "output_type": "stream",
     "text": [
      "c:\\Users\\madhu\\anaconda3\\envs\\tf\\lib\\site-packages\\sklearn\\utils\\validation.py:2739: UserWarning: X does not have valid feature names, but MinMaxScaler was fitted with feature names\n",
      "  warnings.warn(\n"
     ]
    }
   ],
   "source": [
    "predict(10000, 10, w,b) "
   ]
  },
  {
   "cell_type": "markdown",
   "id": "e55e6957",
   "metadata": {},
   "source": [
    "### Stochastic Gradient Descent "
   ]
  },
  {
   "cell_type": "code",
   "execution_count": 44,
   "id": "9ae3089f",
   "metadata": {},
   "outputs": [
    {
     "data": {
      "text/plain": [
       "2"
      ]
     },
     "execution_count": 44,
     "metadata": {},
     "output_type": "execute_result"
    }
   ],
   "source": [
    "import random \n",
    "random.randint(0,6) "
   ]
  },
  {
   "cell_type": "code",
   "execution_count": 52,
   "id": "8227c563",
   "metadata": {},
   "outputs": [
    {
     "data": {
      "text/plain": [
       "array([0.24862069, 0.5       ])"
      ]
     },
     "execution_count": 52,
     "metadata": {},
     "output_type": "execute_result"
    }
   ],
   "source": [
    "scaled_X[3] "
   ]
  },
  {
   "cell_type": "code",
   "execution_count": null,
   "id": "735df474",
   "metadata": {},
   "outputs": [],
   "source": [
    "def stochastic_gradient_descent(X, y_true, epochs, learning_rate=0.01): \n",
    "    number_of_features = X.shape[1]\n",
    "    \n",
    "    y_true = y_true.reshape(y_true.shape[0], ) \n",
    "    \n",
    "    w = np.ones(shape=(number_of_features))\n",
    "    b = 0 \n",
    "    total_samples = X.shape[0] \n",
    "    \n",
    "    cost_list = []\n",
    "    epoch_list = [] \n",
    "    \n",
    "    for i in range(epochs): \n",
    "        random_index = random.randint(0, total_samples-1) \n",
    "        sample_X = X[random_index]\n",
    "        sample_y = y_true[random_index] \n",
    "        \n",
    "        # calculate y_predicted using dot product\n",
    "        # transpose the Xj to get the dot product because w.shape = (1,2)\n",
    "        y_predicted = np.dot(w, sample_X.T) + b  \n",
    "        \n",
    "        w_grad = -(2/total_samples)*(sample_X.T.dot(sample_y-y_predicted))\n",
    "        b_grad = -(2/total_samples)*(sample_y-y_predicted)\n",
    "        \n",
    "        # get gradients of w, and b\n",
    "        w = w - learning_rate * w_grad\n",
    "        b = b - learning_rate * b_grad \n",
    "        \n",
    "        cost = np.square(sample_y-y_predicted) \n",
    "        \n",
    "        if i%100==0: \n",
    "            cost_list.append(cost)\n",
    "            epoch_list.append(i) \n",
    "    \n",
    "    return w, b, cost, cost_list, epoch_list "
   ]
  },
  {
   "cell_type": "code",
   "execution_count": 59,
   "id": "52a3ccf1",
   "metadata": {},
   "outputs": [
    {
     "data": {
      "text/plain": [
       "(array([0.70816441, 0.67689717]), -0.2319265596939902, 0.006544806123082721)"
      ]
     },
     "execution_count": 59,
     "metadata": {},
     "output_type": "execute_result"
    }
   ],
   "source": [
    "w_sgd, b_sgd, cost_sgd, cost_list_sgd, epoch_list_sgd = stochastic_gradient_descent(scaled_X, scaled_y, 10000) \n",
    "\n",
    "w_sgd, b_sgd, cost_sgd "
   ]
  },
  {
   "cell_type": "code",
   "execution_count": 60,
   "id": "b3056b0b",
   "metadata": {},
   "outputs": [
    {
     "data": {
      "text/plain": [
       "[<matplotlib.lines.Line2D at 0x2307c1c2670>]"
      ]
     },
     "execution_count": 60,
     "metadata": {},
     "output_type": "execute_result"
    },
    {
     "data": {
      "image/png": "[encoded data removed]",
      "text/plain": [
       "<Figure size 640x480 with 1 Axes>"
      ]
     },
     "metadata": {},
     "output_type": "display_data"
    }
   ],
   "source": [
    "# plotting epochs against cost\n",
    "plt.xlabel('epoch')\n",
    "plt.ylabel('cost')\n",
    "plt.plot(epoch_list_sgd, cost_list_sgd)  "
   ]
  },
  {
   "cell_type": "code",
   "execution_count": null,
   "id": "8213044d",
   "metadata": {},
   "outputs": [
    {
     "name": "stdout",
     "output_type": "stream",
     "text": [
      "Home price: 128.56504591693545\n"
     ]
    },
    {
     "name": "stderr",
     "output_type": "stream",
     "text": [
      "c:\\Users\\madhu\\anaconda3\\envs\\tf\\lib\\site-packages\\sklearn\\utils\\validation.py:2739: UserWarning: X does not have valid feature names, but MinMaxScaler was fitted with feature names\n",
      "  warnings.warn(\n"
     ]
    }
   ],
   "source": [
    "# using sgd\n",
    "predict(2600, 4, w_sgd, b_sgd)"
   ]
  },
  {
   "cell_type": "code",
   "execution_count": null,
   "id": "4993e11c",
   "metadata": {},
   "outputs": [
    {
     "name": "stdout",
     "output_type": "stream",
     "text": [
      "Home price: 128.45484403267596\n"
     ]
    },
    {
     "name": "stderr",
     "output_type": "stream",
     "text": [
      "c:\\Users\\madhu\\anaconda3\\envs\\tf\\lib\\site-packages\\sklearn\\utils\\validation.py:2739: UserWarning: X does not have valid feature names, but MinMaxScaler was fitted with feature names\n",
      "  warnings.warn(\n"
     ]
    }
   ],
   "source": [
    "# using bgd\n",
    "predict(2600, 4, w, b)"
   ]
  },
  {
   "cell_type": "markdown",
   "id": "e1b4fcac",
   "metadata": {},
   "source": [
    "### Mini Batch Gradient Descnet"
   ]
  },
  {
   "cell_type": "code",
   "execution_count": 66,
   "id": "273929fa",
   "metadata": {},
   "outputs": [
    {
     "data": {
      "text/plain": [
       "(20,)"
      ]
     },
     "execution_count": 66,
     "metadata": {},
     "output_type": "execute_result"
    }
   ],
   "source": [
    "scaled_y.reshape(scaled_y.shape[0], ).shape "
   ]
  },
  {
   "cell_type": "code",
   "execution_count": null,
   "id": "a79c5d3b",
   "metadata": {},
   "outputs": [],
   "source": [
    "def minibatch_gradient_descent(X, y_true, epochs, batch_size, learning_rate=0.01): \n",
    "    number_of_features = X.shape[1] \n",
    "    \n",
    "    # reshape the array to look like (20,) from (20,1)\n",
    "    y_true = y_true.reshape(y_true.shape[0],)\n",
    "    \n",
    "    w = np.ones(shape=number_of_features)\n",
    "    b = 0\n",
    "    total_samples = X.shape[0] \n",
    "    \n",
    "    # check the batch size\n",
    "    if batch_size > total_samples: \n",
    "        batch_size = total_samples\n",
    "    \n",
    "    cost_list = []\n",
    "    epoch_list = [] \n",
    "    \n",
    "    num_batches = int(total_samples/batch_size) \n",
    "    \n",
    "    for i in range(epochs):\n",
    "        random_indices = np.random.permutation(total_samples)\n",
    "        X_tmp = X[random_indices] \n",
    "        y_tmp = y_true[random_indices] \n",
    "        \n",
    "        for j in range(0, total_samples, batch_size): \n",
    "            Xj = X_tmp[j:j+batch_size]\n",
    "            yj = y_tmp[j:j+batch_size]\n",
    "            \n",
    "            # calculate y_predicted using dot product\n",
    "            # transpose the Xj to get the dot product because w.shape = (1,2)\n",
    "            y_predicted = np.dot(w, Xj.T) + b \n",
    "            \n",
    "            # get gradients of w, and b\n",
    "            w_grad = -(2/len(Xj))*(Xj.T.dot(yj-y_predicted))\n",
    "            b_grad = -(2/len(Xj))*np.sum(yj-y_predicted) \n",
    "            \n",
    "            # calculate the w, b\n",
    "            w = w - learning_rate * w_grad\n",
    "            b = b - learning_rate * b_grad \n",
    "            \n",
    "            # calculate the cost using MSE \n",
    "            cost = np.mean(np.square(yj-y_predicted))  # MSE (Mean Squared Error)\n",
    "        \n",
    "        # append the data to the lists after 10 epochs    \n",
    "        if i%10==0: \n",
    "            cost_list.append(cost)\n",
    "            epoch_list.append(i) \n",
    "        \n",
    "    return w, b, cost, cost_list, epoch_list "
   ]
  },
  {
   "cell_type": "code",
   "execution_count": 69,
   "id": "2f312a4c",
   "metadata": {},
   "outputs": [
    {
     "data": {
      "text/plain": [
       "(array([0.72455808, 0.69443097]), -0.24768409752085885, 0.004032889346359491)"
      ]
     },
     "execution_count": 69,
     "metadata": {},
     "output_type": "execute_result"
    }
   ],
   "source": [
    "w_mb, b_mb, cost_mb, cost_list_mb, epoch_list_mb = minibatch_gradient_descent(scaled_X, scaled_y, epochs=100, batch_size=5)  \n",
    "w_mb, b_mb, cost_mb"
   ]
  },
  {
   "cell_type": "code",
   "execution_count": 70,
   "id": "dbfa80a9",
   "metadata": {},
   "outputs": [
    {
     "name": "stdout",
     "output_type": "stream",
     "text": [
      "Home price: 129.58675221942977\n"
     ]
    },
    {
     "name": "stderr",
     "output_type": "stream",
     "text": [
      "c:\\Users\\madhu\\anaconda3\\envs\\tf\\lib\\site-packages\\sklearn\\utils\\validation.py:2739: UserWarning: X does not have valid feature names, but MinMaxScaler was fitted with feature names\n",
      "  warnings.warn(\n"
     ]
    }
   ],
   "source": [
    "predict(2600, 4, w_mb, b_mb) "
   ]
  },
  {
   "cell_type": "code",
   "execution_count": 71,
   "id": "a9d16f06",
   "metadata": {},
   "outputs": [
    {
     "name": "stdout",
     "output_type": "stream",
     "text": [
      "Home price: 128.45484403267596\n"
     ]
    },
    {
     "name": "stderr",
     "output_type": "stream",
     "text": [
      "c:\\Users\\madhu\\anaconda3\\envs\\tf\\lib\\site-packages\\sklearn\\utils\\validation.py:2739: UserWarning: X does not have valid feature names, but MinMaxScaler was fitted with feature names\n",
      "  warnings.warn(\n"
     ]
    }
   ],
   "source": [
    "predict(2600, 4, w, b) "
   ]
  },
  {
   "cell_type": "code",
   "execution_count": 73,
   "id": "409d33ed",
   "metadata": {},
   "outputs": [
    {
     "data": {
      "text/plain": [
       "[<matplotlib.lines.Line2D at 0x2307c3dafd0>]"
      ]
     },
     "execution_count": 73,
     "metadata": {},
     "output_type": "execute_result"
    },
    {
     "data": {
      "image/png": "[encoded data removed]",
      "text/plain": [
       "<Figure size 640x480 with 1 Axes>"
      ]
     },
     "metadata": {},
     "output_type": "display_data"
    }
   ],
   "source": [
    "# plotting epoch against cost \n",
    "plt.xlabel('epoch')\n",
    "plt.ylabel('cost') \n",
    "plt.plot(epoch_list_mb, cost_list_mb)  "
   ]
  },
  {
   "cell_type": "code",
   "execution_count": null,
   "id": "96408c12",
   "metadata": {},
   "outputs": [],
   "source": []
  }
 ],
 "metadata": {
  "kernelspec": {
   "display_name": "tf",
   "language": "python",
   "name": "python3"
  },
  "language_info": {
   "codemirror_mode": {
    "name": "ipython",
    "version": 3
   },
   "file_extension": ".py",
   "mimetype": "text/x-python",
   "name": "python",
   "nbconvert_exporter": "python",
   "pygments_lexer": "ipython3",
   "version": "3.9.21"
  }
 },
 "nbformat": 4,
 "nbformat_minor": 5
}
